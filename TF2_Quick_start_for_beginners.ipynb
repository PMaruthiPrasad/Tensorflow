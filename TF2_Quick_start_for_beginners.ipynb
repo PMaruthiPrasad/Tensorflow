{
  "nbformat": 4,
  "nbformat_minor": 0,
  "metadata": {
    "colab": {
      "provenance": []
    },
    "kernelspec": {
      "name": "python3",
      "display_name": "Python 3"
    },
    "language_info": {
      "name": "python"
    }
  },
  "cells": [
    {
      "cell_type": "code",
      "execution_count": null,
      "metadata": {
        "colab": {
          "base_uri": "https://localhost:8080/"
        },
        "id": "XslVhi88FpS5",
        "outputId": "f6e41ef2-00f3-44cd-cb95-1bb7224d30f6"
      },
      "outputs": [
        {
          "output_type": "stream",
          "name": "stdout",
          "text": [
            "Tensorflow version: 2.15.0\n"
          ]
        }
      ],
      "source": [
        "import tensorflow as tf\n",
        "print('Tensorflow version:',tf.__version__)"
      ]
    },
    {
      "cell_type": "code",
      "source": [
        "mnist=tf.keras.datasets.mnist\n",
        "(x_train, y_train), (x_test,y_test)=mnist.load_data()\n",
        "x_train, x_test=x_train/255.0, x_test/255.0"
      ],
      "metadata": {
        "colab": {
          "base_uri": "https://localhost:8080/"
        },
        "id": "A401UEnzF-YP",
        "outputId": "31206d79-1bca-4231-83c9-e19b9fe6818b"
      },
      "execution_count": null,
      "outputs": [
        {
          "output_type": "stream",
          "name": "stdout",
          "text": [
            "Downloading data from https://storage.googleapis.com/tensorflow/tf-keras-datasets/mnist.npz\n",
            "11490434/11490434 [==============================] - 0s 0us/step\n"
          ]
        }
      ]
    },
    {
      "cell_type": "code",
      "source": [
        "model = tf.keras.models.Sequential([\n",
        "  tf.keras.layers.Flatten(input_shape=(28, 28)),\n",
        "  tf.keras.layers.Dense(128, activation='relu'),\n",
        "  tf.keras.layers.Dropout(0.2),\n",
        "  tf.keras.layers.Dense(10)\n",
        "])"
      ],
      "metadata": {
        "id": "fV3wLiHYGjMv"
      },
      "execution_count": null,
      "outputs": []
    },
    {
      "cell_type": "code",
      "source": [
        "predictions=model(x_train[:1]).numpy()\n",
        "predictions"
      ],
      "metadata": {
        "colab": {
          "base_uri": "https://localhost:8080/"
        },
        "id": "JMfvJQhSIfAN",
        "outputId": "a7a6e421-1e6c-4a65-9329-9254f61a9894"
      },
      "execution_count": null,
      "outputs": [
        {
          "output_type": "execute_result",
          "data": {
            "text/plain": [
              "array([[ 0.41858494,  0.25720343, -0.5254493 ,  0.03687009, -0.85723966,\n",
              "        -0.24640554,  0.06700036,  0.42341855, -0.32271424, -0.28763407]],\n",
              "      dtype=float32)"
            ]
          },
          "metadata": {},
          "execution_count": 6
        }
      ]
    },
    {
      "cell_type": "code",
      "source": [
        "tf.nn.softmax(predictions).numpy()"
      ],
      "metadata": {
        "colab": {
          "base_uri": "https://localhost:8080/"
        },
        "id": "323ljzKCJW0u",
        "outputId": "743b270b-156c-42a2-fbf3-c2d6a96b41fd"
      },
      "execution_count": null,
      "outputs": [
        {
          "output_type": "execute_result",
          "data": {
            "text/plain": [
              "array([[0.15638171, 0.13307573, 0.06084111, 0.10676017, 0.04366187,\n",
              "        0.08042373, 0.11002584, 0.15713942, 0.07451501, 0.0771754 ]],\n",
              "      dtype=float32)"
            ]
          },
          "metadata": {},
          "execution_count": 7
        }
      ]
    },
    {
      "cell_type": "code",
      "source": [
        "loss_fn=tf.keras.losses.SparseCategoricalCrossentropy(from_logits=True)"
      ],
      "metadata": {
        "id": "fSogC9ZDJj8g"
      },
      "execution_count": null,
      "outputs": []
    },
    {
      "cell_type": "code",
      "source": [
        "loss_fn(y_train[:1],predictions).numpy()"
      ],
      "metadata": {
        "colab": {
          "base_uri": "https://localhost:8080/"
        },
        "id": "z0q6RRaYKAmQ",
        "outputId": "46a910ae-78a7-4b25-d3d4-ddc4bb8ccb28"
      },
      "execution_count": null,
      "outputs": [
        {
          "output_type": "execute_result",
          "data": {
            "text/plain": [
              "2.5204458"
            ]
          },
          "metadata": {},
          "execution_count": 10
        }
      ]
    },
    {
      "cell_type": "code",
      "source": [
        "model.compile(optimizer='adam',loss=loss_fn,metrics=['accuracy'])"
      ],
      "metadata": {
        "id": "9JRA-eAqKVsw"
      },
      "execution_count": null,
      "outputs": []
    },
    {
      "cell_type": "code",
      "source": [
        "model.fit(x_train,y_train,epochs=5)"
      ],
      "metadata": {
        "colab": {
          "base_uri": "https://localhost:8080/"
        },
        "id": "6Bl71kTKKhvf",
        "outputId": "9524588e-1c17-4ea7-8a2d-5076617f029f"
      },
      "execution_count": null,
      "outputs": [
        {
          "output_type": "stream",
          "name": "stdout",
          "text": [
            "Epoch 1/5\n",
            "1875/1875 [==============================] - 12s 6ms/step - loss: 0.2949 - accuracy: 0.9140\n",
            "Epoch 2/5\n",
            "1875/1875 [==============================] - 9s 5ms/step - loss: 0.1426 - accuracy: 0.9577\n",
            "Epoch 3/5\n",
            "1875/1875 [==============================] - 10s 6ms/step - loss: 0.1064 - accuracy: 0.9677\n",
            "Epoch 4/5\n",
            "1875/1875 [==============================] - 14s 7ms/step - loss: 0.0870 - accuracy: 0.9737\n",
            "Epoch 5/5\n",
            "1875/1875 [==============================] - 11s 6ms/step - loss: 0.0735 - accuracy: 0.9768\n"
          ]
        },
        {
          "output_type": "execute_result",
          "data": {
            "text/plain": [
              "<keras.src.callbacks.History at 0x7a1297890a90>"
            ]
          },
          "metadata": {},
          "execution_count": 12
        }
      ]
    },
    {
      "cell_type": "code",
      "source": [
        "model.evaluate(x_test,y_test,verbose=2)"
      ],
      "metadata": {
        "colab": {
          "base_uri": "https://localhost:8080/"
        },
        "id": "IpW7FZUNKo_o",
        "outputId": "ecdc9ed7-c0ae-46f0-8f66-8361eb2f7ad9"
      },
      "execution_count": null,
      "outputs": [
        {
          "output_type": "stream",
          "name": "stdout",
          "text": [
            "313/313 - 1s - loss: 0.0753 - accuracy: 0.9769 - 762ms/epoch - 2ms/step\n"
          ]
        },
        {
          "output_type": "execute_result",
          "data": {
            "text/plain": [
              "[0.07532088458538055, 0.9768999814987183]"
            ]
          },
          "metadata": {},
          "execution_count": 13
        }
      ]
    },
    {
      "cell_type": "code",
      "source": [
        "probability_model = tf.keras.Sequential([\n",
        "  model,\n",
        "  tf.keras.layers.Softmax()\n",
        "])"
      ],
      "metadata": {
        "id": "xMYqoJggK1M_"
      },
      "execution_count": null,
      "outputs": []
    },
    {
      "cell_type": "code",
      "source": [
        "probability_model(x_test[:5])"
      ],
      "metadata": {
        "id": "VVZLNop6LFag",
        "outputId": "5a12a27a-3fdb-4428-bb3c-6439ed52b36e",
        "colab": {
          "base_uri": "https://localhost:8080/"
        }
      },
      "execution_count": null,
      "outputs": [
        {
          "output_type": "execute_result",
          "data": {
            "text/plain": [
              "<tf.Tensor: shape=(5, 10), dtype=float32, numpy=\n",
              "array([[8.6147878e-08, 2.2776810e-08, 7.3042224e-06, 6.8858557e-05,\n",
              "        3.8391800e-11, 2.8469483e-07, 6.4447783e-14, 9.9991596e-01,\n",
              "        2.3335291e-07, 7.1034024e-06],\n",
              "       [1.1356150e-07, 2.4245211e-04, 9.9793810e-01, 8.0200110e-04,\n",
              "        5.2849283e-12, 1.4035966e-05, 3.8720241e-06, 2.0576612e-09,\n",
              "        9.9923462e-04, 9.5337158e-12],\n",
              "       [2.2379663e-07, 9.9923694e-01, 2.4718945e-04, 1.7885368e-05,\n",
              "        1.3090696e-05, 1.8275166e-06, 2.6255466e-05, 1.4300786e-04,\n",
              "        3.1102233e-04, 2.6685402e-06],\n",
              "       [9.9992633e-01, 3.3181884e-09, 2.3551978e-05, 3.3500839e-07,\n",
              "        1.1186691e-07, 2.4693268e-06, 9.0338517e-06, 2.6997222e-05,\n",
              "        5.5199045e-09, 1.1239563e-05],\n",
              "       [1.1594282e-05, 1.1566461e-09, 6.6667440e-07, 3.3362355e-09,\n",
              "        9.9544263e-01, 4.6271848e-07, 1.0658859e-05, 3.0215841e-05,\n",
              "        1.4360155e-07, 4.5035388e-03]], dtype=float32)>"
            ]
          },
          "metadata": {},
          "execution_count": 15
        }
      ]
    },
    {
      "cell_type": "code",
      "source": [],
      "metadata": {
        "id": "O_dfFDlJLIGL"
      },
      "execution_count": null,
      "outputs": []
    }
  ]
}