{
  "nbformat": 4,
  "nbformat_minor": 0,
  "metadata": {
    "colab": {
      "provenance": []
    },
    "kernelspec": {
      "name": "python3",
      "display_name": "Python 3"
    },
    "language_info": {
      "name": "python"
    }
  },
  "cells": [
    {
      "cell_type": "code",
      "execution_count": 2,
      "metadata": {
        "colab": {
          "base_uri": "https://localhost:8080/"
        },
        "id": "Na615SAETkfa",
        "outputId": "a694dbc1-b5c3-4805-a9e0-855697261522"
      },
      "outputs": [
        {
          "output_type": "stream",
          "name": "stdout",
          "text": [
            "tensorflow version: 2.15.0\n"
          ]
        }
      ],
      "source": [
        "import tensorflow as tf\n",
        "print('tensorflow version:',tf.__version__)"
      ]
    },
    {
      "cell_type": "markdown",
      "source": [
        "# Load Dataset"
      ],
      "metadata": {
        "id": "X4O__WGuT-pl"
      }
    },
    {
      "cell_type": "code",
      "source": [
        "mnist=tf.keras.datasets.mnist\n",
        "(x_train,y_train), (x_test,y_test)=mnist.load_data()\n",
        "x_train,x_test=x_train/255.0,x_test/255.0"
      ],
      "metadata": {
        "colab": {
          "base_uri": "https://localhost:8080/"
        },
        "id": "oXNASiIwT2qJ",
        "outputId": "d2e2c8dc-2628-4323-cc5c-28a57fff5ceb"
      },
      "execution_count": 3,
      "outputs": [
        {
          "output_type": "stream",
          "name": "stdout",
          "text": [
            "Downloading data from https://storage.googleapis.com/tensorflow/tf-keras-datasets/mnist.npz\n",
            "11490434/11490434 [==============================] - 0s 0us/step\n"
          ]
        }
      ]
    },
    {
      "cell_type": "markdown",
      "source": [
        "# Build a machine learning model"
      ],
      "metadata": {
        "id": "jqsMi83jUdZq"
      }
    },
    {
      "cell_type": "code",
      "source": [
        "model=tf.keras.models.Sequential([tf.keras.layers.Flatten(input_shape=(28,28)),\n",
        "                                  tf.keras.layers.Dense(128,activation='relu'),\n",
        "                                  tf.keras.layers.Dropout(0.2),\n",
        "                                  tf.keras.layers.Dense(10)])"
      ],
      "metadata": {
        "id": "GCEnd6xaUanJ"
      },
      "execution_count": 5,
      "outputs": []
    },
    {
      "cell_type": "code",
      "source": [
        "predictions=model(x_train[:1]).numpy()\n",
        "predictions"
      ],
      "metadata": {
        "colab": {
          "base_uri": "https://localhost:8080/"
        },
        "id": "bj6LwdaUVAdy",
        "outputId": "409eefea-6e33-4ba5-a2f9-0ec002a2785d"
      },
      "execution_count": 6,
      "outputs": [
        {
          "output_type": "execute_result",
          "data": {
            "text/plain": [
              "array([[-0.06795362, -0.00364936,  0.36043853, -0.09182775, -1.1782353 ,\n",
              "         0.08942837, -0.76208085,  0.19559622,  0.25114468,  0.31481   ]],\n",
              "      dtype=float32)"
            ]
          },
          "metadata": {},
          "execution_count": 6
        }
      ]
    },
    {
      "cell_type": "code",
      "source": [
        "tf.nn.softmax(predictions).numpy()"
      ],
      "metadata": {
        "colab": {
          "base_uri": "https://localhost:8080/"
        },
        "id": "9LOwcEuDVYaM",
        "outputId": "8d5b1aea-421f-435d-8d11-ed0a58f59c3c"
      },
      "execution_count": 8,
      "outputs": [
        {
          "output_type": "execute_result",
          "data": {
            "text/plain": [
              "array([[0.09327669, 0.09947184, 0.14315993, 0.09107617, 0.03073151,\n",
              "        0.10917501, 0.04659266, 0.12140354, 0.12833814, 0.13677454]],\n",
              "      dtype=float32)"
            ]
          },
          "metadata": {},
          "execution_count": 8
        }
      ]
    },
    {
      "cell_type": "code",
      "source": [
        "loss_fn=tf.keras.losses.SparseCategoricalCrossentropy(from_logits=True)"
      ],
      "metadata": {
        "id": "fI3SyMfZViHG"
      },
      "execution_count": 9,
      "outputs": []
    },
    {
      "cell_type": "code",
      "source": [
        "loss_fn(y_train[:1],predictions).numpy()"
      ],
      "metadata": {
        "colab": {
          "base_uri": "https://localhost:8080/"
        },
        "id": "Z7LGVSqHVu_5",
        "outputId": "80f4f715-128c-42ad-c512-f65dd73232df"
      },
      "execution_count": 11,
      "outputs": [
        {
          "output_type": "execute_result",
          "data": {
            "text/plain": [
              "2.2148032"
            ]
          },
          "metadata": {},
          "execution_count": 11
        }
      ]
    },
    {
      "cell_type": "code",
      "source": [
        "model.compile(optimizer='adam',loss=loss_fn,metrics=['accuracy'])"
      ],
      "metadata": {
        "id": "pB0HCPcyV3Z7"
      },
      "execution_count": 12,
      "outputs": []
    },
    {
      "cell_type": "code",
      "source": [
        "model.fit(x_train,y_train,epochs=5)"
      ],
      "metadata": {
        "colab": {
          "base_uri": "https://localhost:8080/"
        },
        "id": "KVHKeYgmXKyi",
        "outputId": "1a8f2f4a-818a-47a1-925b-fd124156a11f"
      },
      "execution_count": 13,
      "outputs": [
        {
          "output_type": "stream",
          "name": "stdout",
          "text": [
            "Epoch 1/5\n",
            "1875/1875 [==============================] - 7s 3ms/step - loss: 0.2944 - accuracy: 0.9145\n",
            "Epoch 2/5\n",
            "1875/1875 [==============================] - 6s 3ms/step - loss: 0.1396 - accuracy: 0.9581\n",
            "Epoch 3/5\n",
            "1875/1875 [==============================] - 8s 4ms/step - loss: 0.1061 - accuracy: 0.9684\n",
            "Epoch 4/5\n",
            "1875/1875 [==============================] - 7s 4ms/step - loss: 0.0866 - accuracy: 0.9736\n",
            "Epoch 5/5\n",
            "1875/1875 [==============================] - 7s 4ms/step - loss: 0.0734 - accuracy: 0.9766\n"
          ]
        },
        {
          "output_type": "execute_result",
          "data": {
            "text/plain": [
              "<keras.src.callbacks.History at 0x7f2db5c27820>"
            ]
          },
          "metadata": {},
          "execution_count": 13
        }
      ]
    },
    {
      "cell_type": "code",
      "source": [
        "model.evaluate(x_test,y_test,verbose=2)"
      ],
      "metadata": {
        "colab": {
          "base_uri": "https://localhost:8080/"
        },
        "id": "7eeMpKHpXVCO",
        "outputId": "b0928cc4-7d58-493a-8704-01220cd5a9db"
      },
      "execution_count": 14,
      "outputs": [
        {
          "output_type": "stream",
          "name": "stdout",
          "text": [
            "313/313 - 1s - loss: 0.0742 - accuracy: 0.9757 - 561ms/epoch - 2ms/step\n"
          ]
        },
        {
          "output_type": "execute_result",
          "data": {
            "text/plain": [
              "[0.07419728487730026, 0.9757000207901001]"
            ]
          },
          "metadata": {},
          "execution_count": 14
        }
      ]
    },
    {
      "cell_type": "code",
      "source": [
        "probability_model=tf.keras.Sequential([model,tf.keras.layers.Softmax()])"
      ],
      "metadata": {
        "id": "5kLdjynfXcxz"
      },
      "execution_count": 15,
      "outputs": []
    },
    {
      "cell_type": "code",
      "source": [
        "probability_model(x_test[:5])"
      ],
      "metadata": {
        "colab": {
          "base_uri": "https://localhost:8080/"
        },
        "id": "f9BRA48uXrYb",
        "outputId": "19657da1-57fe-4559-b397-4090830b7d08"
      },
      "execution_count": 16,
      "outputs": [
        {
          "output_type": "execute_result",
          "data": {
            "text/plain": [
              "<tf.Tensor: shape=(5, 10), dtype=float32, numpy=\n",
              "array([[5.79090909e-07, 2.24752039e-09, 3.11803815e-05, 4.11470792e-05,\n",
              "        1.89439393e-12, 1.94428139e-06, 1.03362204e-13, 9.99922276e-01,\n",
              "        9.35619710e-07, 2.08980441e-06],\n",
              "       [9.10447273e-10, 1.84803415e-04, 9.99811351e-01, 3.61488424e-06,\n",
              "        7.83271865e-15, 2.17961862e-08, 1.23533042e-07, 2.50874659e-14,\n",
              "        1.29818687e-07, 1.57233693e-14],\n",
              "       [5.08998437e-06, 9.98696625e-01, 1.83705051e-04, 7.68008522e-06,\n",
              "        1.30718501e-04, 3.26906593e-05, 5.71715827e-05, 3.25744099e-04,\n",
              "        5.60193148e-04, 3.52532368e-07],\n",
              "       [9.99867678e-01, 2.39739284e-10, 9.69605899e-05, 4.01603089e-08,\n",
              "        2.82128854e-09, 8.65556672e-07, 1.27928861e-05, 7.42107204e-07,\n",
              "        8.32810599e-07, 2.00082050e-05],\n",
              "       [3.70498310e-05, 8.21066048e-10, 2.18234272e-05, 9.20243970e-09,\n",
              "        9.82641280e-01, 4.73428230e-07, 4.94012784e-06, 5.17449225e-04,\n",
              "        7.19650245e-07, 1.67764481e-02]], dtype=float32)>"
            ]
          },
          "metadata": {},
          "execution_count": 16
        }
      ]
    },
    {
      "cell_type": "code",
      "source": [],
      "metadata": {
        "id": "KQ3tXIcPXwOE"
      },
      "execution_count": null,
      "outputs": []
    }
  ]
}